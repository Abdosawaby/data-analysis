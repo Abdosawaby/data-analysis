{
  "cells": [
    {
      "cell_type": "markdown",
      "metadata": {
        "id": "-LP2hJ3K4Jpy"
      },
      "source": [
        "Collect the number of job postings for the following locations using the API:\n",
        "\n",
        "* Los Angeles\n",
        "* New York\n",
        "* San Francisco\n",
        "* Washington DC\n",
        "* Seattle\n",
        "* Austin\n",
        "* Detroit\n"
      ]
    },
    {
      "cell_type": "code",
      "execution_count": 20,
      "metadata": {
        "id": "J7ROlkYG4Jpy"
      },
      "outputs": [],
      "source": [
        "#Import required libraries\n",
        "import pandas as pd\n",
        "import json"
      ]
    },
    {
      "cell_type": "markdown",
      "metadata": {
        "id": "iThGKvAK4Jpy"
      },
      "source": [
        "#### Write a function to get the number of jobs for the Python technology.<br>\n",
        ">\n",
        "  Refer the ungraded **rest api lab** in the course **Python for Data Science, AI & Development**  <a href=\"https://www.coursera.org/learn/python-for-applied-data-science-ai/ungradedLti/P6sW8/hands-on-lab-access-rest-apis-request-http?utm_medium=Exinfluencer&utm_source=Exinfluencer&utm_content=000026UJ&utm_term=10006555&utm_id=NA-SkillsNetwork-Channel-SkillsNetworkCoursesIBMDA0321ENSkillsNetwork928-2022-01-01\">link</a>\n",
        "  \n",
        " ##### The keys in the json are\n",
        " * Job Title\n",
        "\n",
        " * Job Experience Required\n",
        "\n",
        " * Key Skills\n",
        "\n",
        " * Role Category\n",
        "\n",
        " * Location\n",
        "\n",
        " * Functional Area\n",
        "\n",
        " * Industry\n",
        "\n",
        " * Role\n",
        "\n",
        "You can also view  the json file contents  from the following <a href = \"https://cf-courses-data.s3.us.cloud-object-storage.appdomain.cloud/IBM-DA0321EN-SkillsNetwork/labs/module%201/Accessing%20Data%20Using%20APIs/jobs.json\">json</a> URL.\n"
      ]
    },
    {
      "cell_type": "code",
      "execution_count": 38,
      "metadata": {
        "colab": {
          "base_uri": "https://localhost:8080/"
        },
        "id": "rjSIqAwR4Jpz",
        "outputId": "cad8b94d-fc97-4224-aee7-98cb34b27cca"
      },
      "outputs": [
        {
          "output_type": "stream",
          "name": "stdout",
          "text": [
            "Number of Python jobs: 1173\n"
          ]
        }
      ],
      "source": [
        "import requests\n",
        "\n",
        "url = \"https://cf-courses-data.s3.us.cloud-object-storage.appdomain.cloud/IBM-DA0321EN-SkillsNetwork/labs/module%201/Accessing%20Data%20Using%20APIs/jobs.json\"\n",
        "response = requests.get(url)\n",
        "jobs_data = response.json()\n"
      ]
    },
    {
      "cell_type": "markdown",
      "metadata": {
        "id": "42xwLxE24Jpz"
      },
      "source": [
        "Calling the function for Python and checking if it works"
      ]
    },
    {
      "cell_type": "code",
      "source": [
        "# Process data\n",
        "python_jobs = [job for job in jobs_data if \"Python\" in job.get(\"Key Skills\", \"\")]\n",
        "print(f\"Number of Python jobs: {len(python_jobs)}\")"
      ],
      "metadata": {
        "colab": {
          "base_uri": "https://localhost:8080/"
        },
        "id": "v-pe0y2jN5Zu",
        "outputId": "6267827e-5738-45e9-a57a-c070bf6ef59a"
      },
      "execution_count": 39,
      "outputs": [
        {
          "output_type": "stream",
          "name": "stdout",
          "text": [
            "Number of Python jobs: 1173\n"
          ]
        }
      ]
    },
    {
      "cell_type": "markdown",
      "metadata": {
        "id": "IApsF3UZ4Jpz"
      },
      "source": [
        "#### Write a function to find number of jobs in US for a location of your choice\n"
      ]
    },
    {
      "cell_type": "code",
      "execution_count": 43,
      "metadata": {
        "id": "0JJNaGQ44Jp0"
      },
      "outputs": [],
      "source": [
        "def get_number_of_jobs_L(location):\n",
        "    jobs_data = requests.get(url).json()\n",
        "    location_jobs = [job for job in jobs_data if location.lower() in job.get(\"Location\", \"\").lower()]\n",
        "    return location, len(location_jobs)"
      ]
    },
    {
      "cell_type": "markdown",
      "metadata": {
        "id": "LPTSKusC4Jp0"
      },
      "source": [
        "*Call* the function for Los Angeles and check if it is working.\n",
        "\n",
        "\n"
      ]
    },
    {
      "cell_type": "code",
      "execution_count": 44,
      "metadata": {
        "colab": {
          "base_uri": "https://localhost:8080/"
        },
        "id": "tt9OlUBC4Jp0",
        "outputId": "14560de0-bcc7-4565-b503-7a985c118cea"
      },
      "outputs": [
        {
          "output_type": "stream",
          "name": "stdout",
          "text": [
            "Number of jobs in Los Angeles: 640\n"
          ]
        }
      ],
      "source": [
        "location, num_jobs = get_number_of_jobs_L(\"Los Angeles\")\n",
        "print(f\"Number of jobs in {location}: {num_jobs}\")"
      ]
    },
    {
      "cell_type": "markdown",
      "metadata": {
        "id": "TDqNFl3A4Jp1"
      },
      "source": [
        "### Store the results in an excel file\n"
      ]
    },
    {
      "cell_type": "markdown",
      "metadata": {
        "id": "SLB9Vp-W4Jp1"
      },
      "source": [
        "Call the API for all the given technologies above and write the results in an excel spreadsheet.\n"
      ]
    },
    {
      "cell_type": "markdown",
      "metadata": {
        "id": "kInWtOSu4Jp9"
      },
      "source": [
        "Create a python list of all locations for which you need to find the number of jobs postings.\n"
      ]
    },
    {
      "cell_type": "code",
      "execution_count": 51,
      "metadata": {
        "id": "_fNXyU_G4Jp9"
      },
      "outputs": [],
      "source": [
        "locations = [\n",
        "    \"Los Angeles\",\n",
        "    \"New York\",\n",
        "    \"San Francisco\",\n",
        "    \"Washington DC\",\n",
        "    \"Seattle\",\n",
        "    \"Austin\",\n",
        "    \"Detroit\"\n",
        "]"
      ]
    },
    {
      "cell_type": "markdown",
      "metadata": {
        "id": "5DJW9T2y4Jp-"
      },
      "source": [
        "Import libraries required to create excel spreadsheet\n"
      ]
    },
    {
      "cell_type": "code",
      "execution_count": 52,
      "metadata": {
        "id": "jtyXiJmz4Jp-"
      },
      "outputs": [],
      "source": [
        "from openpyxl import Workbook"
      ]
    },
    {
      "cell_type": "markdown",
      "metadata": {
        "id": "Pq-bAQS94Jp-"
      },
      "source": [
        "Create a workbook and select the active worksheet\n"
      ]
    },
    {
      "cell_type": "code",
      "execution_count": 53,
      "metadata": {
        "id": "iWJXv_454Jp_"
      },
      "outputs": [],
      "source": [
        "wb1 = Workbook()\n",
        "ws1 = wb1.active"
      ]
    },
    {
      "cell_type": "markdown",
      "metadata": {
        "id": "cqa00FiQ4Jp_"
      },
      "source": [
        "Find the number of jobs postings for each of the location in the above list.\n",
        "Write the Location name and the number of jobs postings into the excel spreadsheet.\n"
      ]
    },
    {
      "cell_type": "code",
      "execution_count": 54,
      "metadata": {
        "id": "R2A6pvFk4JqA"
      },
      "outputs": [],
      "source": [
        "ws1.append(['Location','Number of Jobs'])\n",
        "\n",
        "for i in range(len(locations)):\n",
        "    ws1.append(get_number_of_jobs_L(locations[i]))"
      ]
    },
    {
      "cell_type": "markdown",
      "metadata": {
        "id": "DgDDctJf4JqA"
      },
      "source": [
        "Save into an excel spreadsheet named 'job-postings.xlsx'.\n"
      ]
    },
    {
      "cell_type": "code",
      "execution_count": 55,
      "metadata": {
        "id": "m1sH2t814JqA"
      },
      "outputs": [],
      "source": [
        "wb1.save('2.a-job-postings (Collected from API).xlsx')\n",
        "wb1.close()"
      ]
    },
    {
      "cell_type": "markdown",
      "metadata": {
        "id": "y3tW6PFk4JqB"
      },
      "source": [
        "Collect the number of job postings for the following languages using the API:\n",
        "\n",
        "*   C\n",
        "*   C#\n",
        "*   C++\n",
        "*   Java\n",
        "*   JavaScript\n",
        "*   Python\n",
        "*   Scala\n",
        "*   Oracle\n",
        "*   SQL Server\n",
        "*   MySQL Server\n",
        "*   PostgreSQL\n",
        "*   MongoDB\n"
      ]
    },
    {
      "cell_type": "code",
      "execution_count": 56,
      "metadata": {
        "id": "hWkE6dwp4JqB"
      },
      "outputs": [],
      "source": [
        "wb2 = Workbook()\n",
        "ws2 = wb2.active\n",
        "\n",
        "languages = ['C','C#','C++','Java','JavaScript','Python','Scala','Oracle','SQL Server','MySQL Server','PostgreSQL','MongoDB']\n",
        "\n",
        "ws2.append(['Languages','Number of Jobs'])\n",
        "\n",
        "for i in range(len(languages)):\n",
        "    ws2.append(get_number_of_jobs_T(languages[i]))\n",
        "\n",
        "wb2.save('2.a-job-postings-languages (Collected from API).xlsx')\n",
        "wb2.close()"
      ]
    }
  ],
  "metadata": {
    "kernelspec": {
      "display_name": "Python",
      "language": "python",
      "name": "conda-env-python-py"
    },
    "language_info": {
      "name": ""
    },
    "colab": {
      "provenance": []
    }
  },
  "nbformat": 4,
  "nbformat_minor": 0
}